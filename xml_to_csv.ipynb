{
 "cells": [
  {
   "cell_type": "code",
   "execution_count": 9,
   "metadata": {},
   "outputs": [],
   "source": [
    "import csv\n",
    "import xml.etree.cElementTree as ET\n",
    "tree = ET.parse('country_data.xml')\n",
    "root = tree.getroot()\n",
    "xml_data_to_csv = open('Out.csv','w')\n",
    "list_head = []\n",
    "Csv_writer = csv.writer(xml_data_to_csv)\n",
    "count = 0\n",
    "for element in root.findall('country'):\n",
    "    list_nodes = []\n",
    "    \n",
    "    #Get head by tag\n",
    "    if count == 0:\n",
    "        rank = element.find('rank').tag\n",
    "        list_head.append(rank)\n",
    "        \n",
    "        year = element.find('year').tag\n",
    "        list_head.append(year)\n",
    "        \n",
    "        gdppc = element.find('gdppc').tag\n",
    "        list_head.append(gdppc)\n",
    "        \n",
    "        neighbor = element.find('neighbor').tag\n",
    "        list_head.append(neighbor)\n",
    "        Csv_writer.writerow(list_head)\n",
    "        count = +1\n",
    "        \n",
    "    #Get child node\n",
    "    rank = element.find('rank').text\n",
    "    list_nodes.append(rank)\n",
    "        \n",
    "    year = element.find('year').text\n",
    "    list_nodes.append(year)\n",
    "        \n",
    "    gdppc = element.find('gdppc').text\n",
    "    list_nodes.append(gdppc)\n",
    "        \n",
    "    neighbor = element.find('neighbor').text\n",
    "    list_nodes.append(neighbor)\n",
    "        \n",
    "    Csv_writer.writerow(list_nodes)\n",
    "    \n",
    "xml_data_to_csv.close()\n",
    "    \n"
   ]
  },
  {
   "cell_type": "code",
   "execution_count": null,
   "metadata": {},
   "outputs": [],
   "source": []
  }
 ],
 "metadata": {
  "kernelspec": {
   "display_name": "Python 3",
   "language": "python",
   "name": "python3"
  },
  "language_info": {
   "codemirror_mode": {
    "name": "ipython",
    "version": 3
   },
   "file_extension": ".py",
   "mimetype": "text/x-python",
   "name": "python",
   "nbconvert_exporter": "python",
   "pygments_lexer": "ipython3",
   "version": "3.7.4"
  }
 },
 "nbformat": 4,
 "nbformat_minor": 2
}
